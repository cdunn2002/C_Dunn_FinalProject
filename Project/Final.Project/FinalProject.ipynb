{
 "cells": [
  {
   "cell_type": "code",
   "execution_count": 15,
   "id": "1247de10-79ad-4e43-b532-8b9c8d52a811",
   "metadata": {},
   "outputs": [],
   "source": [
    "import pandas as pd\n",
    "import numpy as np\n",
    "import netCDF4 as nc\n",
    "import tarfile\n",
    "import xarray as xr #USE XARRAY TO OPEN .NC FILES"
   ]
  },
  {
   "cell_type": "code",
   "execution_count": null,
   "id": "2ed18d93-93e2-40c7-8d78-6cfba67fb292",
   "metadata": {
    "tags": []
   },
   "outputs": [],
   "source": [
    "filepath = 'mydata'"
   ]
  },
  {
   "cell_type": "code",
   "execution_count": null,
   "id": "2d22045f-a122-4b4e-864f-e85982441d1b",
   "metadata": {},
   "outputs": [],
   "source": [
    "# EXAMPLE (fill in for our data)\n",
    "\n",
    "# Import just one data file using xarray\n",
    "data = xr.open_dataset(filepath)\n",
    "\n",
    "# Reformat the data to remove singleton dimensions\n",
    "data = data.squeeze()\n",
    "display(data)\n",
    "# Get the lat and lon\n",
    "lat = data.LATITUDE.values\n",
    "long = data.LONGITUDE.values\n",
    "\n",
    "# Get the temperature and pressure\n",
    "temp = data.TEMP.values\n",
    "pressure = data.PRES.values\n",
    "\n",
    "print(lat, long, temp, pressure)"
   ]
  },
  {
   "cell_type": "code",
   "execution_count": null,
   "id": "43e799f1-71ff-446e-8b49-b22e2491ff7b",
   "metadata": {},
   "outputs": [],
   "source": [
    "# EXAMPLE FOR PLOTTING \n",
    "# Make figure\n",
    "fig,axs = plt.subplots(figsize=(10,10))\n",
    " \n",
    "\n",
    "# Plot temperature and pressure\n",
    "axs.plot(temp, pressure, color='k', lw=2, marker='o')\n",
    "\n",
    "# Format figure\n",
    "axs.invert_yaxis()\n",
    "axs.grid()\n",
    "# make a title and set axes labels, maybe increase font size\n",
    "axs.set_title('Temperature vs. Pressure profile')\n",
    "axs.set_xlabel('Temperature (C)', fontsize=16)\n",
    "axs.set_ylabel('Pressure (dbar)', fontsize=16)\n",
    "\n",
    "# SAVING PLOTS FOR FINAL PROJ use plt.savefig('name.png') --> saves to directory in Jupyter"
   ]
  }
 ],
 "metadata": {
  "kernelspec": {
   "display_name": "Python 3 (ipykernel)",
   "language": "python",
   "name": "python3"
  },
  "language_info": {
   "codemirror_mode": {
    "name": "ipython",
    "version": 3
   },
   "file_extension": ".py",
   "mimetype": "text/x-python",
   "name": "python",
   "nbconvert_exporter": "python",
   "pygments_lexer": "ipython3",
   "version": "3.10.10"
  }
 },
 "nbformat": 4,
 "nbformat_minor": 5
}
